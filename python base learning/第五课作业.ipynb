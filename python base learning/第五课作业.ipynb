{
 "cells": [
  {
   "cell_type": "markdown",
   "metadata": {},
   "source": [
    "1. \n",
    "* 空的\n",
    "* True\n",
    "* True"
   ]
  },
  {
   "cell_type": "code",
   "execution_count": 2,
   "metadata": {},
   "outputs": [],
   "source": [
    "goal = \"黑球\"\n",
    "if goal == \"黑球\":\n",
    "    sum = 0\n",
    "elif goal == \"白球\":\n",
    "    sum = 10\n",
    "elif goal == \"篮球\":\n",
    "    sum = 20\n",
    "elif goal == \"粉球\":\n",
    "    sum = 30    \n",
    "elif goal == \"紫球\":\n",
    "    sum = 30   \n",
    "elif goal == \"紫球\":\n",
    "    sum = 100 "
   ]
  },
  {
   "cell_type": "code",
   "execution_count": 3,
   "metadata": {},
   "outputs": [
    {
     "name": "stdout",
     "output_type": "stream",
     "text": [
      "0\n"
     ]
    }
   ],
   "source": [
    "print(sum)"
   ]
  },
  {
   "cell_type": "code",
   "execution_count": 5,
   "metadata": {},
   "outputs": [
    {
     "name": "stdout",
     "output_type": "stream",
     "text": [
      "1 2 3 4 5 6 7 8 9 \n",
      "2 4 6 8 10 12 14 16 18 \n",
      "3 6 9 12 15 18 21 24 27 \n",
      "4 8 12 16 20 24 28 32 36 \n",
      "5 10 15 20 25 30 35 40 45 \n",
      "6 12 18 24 30 36 42 48 54 \n",
      "7 14 21 28 35 42 49 56 63 \n",
      "8 16 24 32 40 48 56 64 72 \n",
      "9 18 27 36 45 54 63 72 81 \n"
     ]
    }
   ],
   "source": [
    "for i in range(1,10):\n",
    "    for j in range(1,10):\n",
    "        print(i*j,end=\" \")\n",
    "    print()"
   ]
  },
  {
   "cell_type": "code",
   "execution_count": 33,
   "metadata": {},
   "outputs": [
    {
     "name": "stdin",
     "output_type": "stream",
     "text": [
      "请输入学生学号: 1\n",
      "请输入学生姓名： tt\n",
      "请输入学生性别： nv\n",
      "请输入学生学号: Q\n"
     ]
    },
    {
     "name": "stdout",
     "output_type": "stream",
     "text": [
      "1 {'name': 'tt', 'sex': 'nv'}\n"
     ]
    }
   ],
   "source": [
    "students_of_grade3_class2 = {}\n",
    "while True:\n",
    "    number_of_student = input(\"请输入学生学号:\")\n",
    "    if number_of_student == \"Q\" or number_of_student== \"q\":\n",
    "        break\n",
    "    else: \n",
    "        name = input(\"请输入学生姓名：\")\n",
    "        sex = input(\"请输入学生性别：\")\n",
    "        students_of_grade3_class2[number_of_student]={\"name\":name,\"sex\":sex}\n",
    "        \n",
    "for num,info in students_of_grade3_class2.items():\n",
    "    print (num,info)\n",
    "    "
   ]
  },
  {
   "cell_type": "markdown",
   "metadata": {},
   "source": [
    "5. 不可以正常执行，会无限循环"
   ]
  },
  {
   "cell_type": "markdown",
   "metadata": {},
   "source": [
    "6. 会使逻辑变得令人费解"
   ]
  },
  {
   "cell_type": "markdown",
   "metadata": {},
   "source": [
    "7. 将中间变量保存，然后进一步操作"
   ]
  },
  {
   "cell_type": "code",
   "execution_count": null,
   "metadata": {},
   "outputs": [],
   "source": []
  }
 ],
 "metadata": {
  "kernelspec": {
   "display_name": "Python 3",
   "language": "python",
   "name": "python3"
  },
  "language_info": {
   "codemirror_mode": {
    "name": "ipython",
    "version": 3
   },
   "file_extension": ".py",
   "mimetype": "text/x-python",
   "name": "python",
   "nbconvert_exporter": "python",
   "pygments_lexer": "ipython3",
   "version": "3.6.9"
  }
 },
 "nbformat": 4,
 "nbformat_minor": 4
}
