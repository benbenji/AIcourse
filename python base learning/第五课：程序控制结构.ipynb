{
 "cells": [
  {
   "cell_type": "markdown",
   "metadata": {},
   "source": [
    "# 判断"
   ]
  },
  {
   "cell_type": "markdown",
   "metadata": {},
   "source": [
    "## 比较运算"
   ]
  },
  {
   "cell_type": "code",
   "execution_count": 3,
   "metadata": {},
   "outputs": [
    {
     "name": "stdout",
     "output_type": "stream",
     "text": [
      "空的\n"
     ]
    }
   ],
   "source": [
    "ls = []\n",
    "if ls:\n",
    "    print(\"非空\")\n",
    "else :\n",
    "    print(\"空的\")"
   ]
  },
  {
   "cell_type": "markdown",
   "metadata": {},
   "source": [
    "## 逻辑运算"
   ]
  },
  {
   "cell_type": "markdown",
   "metadata": {},
   "source": [
    "> 优先级\n",
    "非 > 与 > 或\n"
   ]
  },
  {
   "cell_type": "markdown",
   "metadata": {},
   "source": [
    "## 存在运算\n",
    "\n",
    "* **in**  \n",
    "* **not in**"
   ]
  },
  {
   "cell_type": "markdown",
   "metadata": {},
   "source": [
    "# 条件语句\n",
    "从上到下判断执行\n",
    "```python\n",
    "if 条件：\n",
    "    代码块\n",
    "elif 条件：\n",
    "    代码块\n",
    "elif 条件：\n",
    "    代码块\n",
    "else：\n",
    "    代码块\n",
    "```"
   ]
  },
  {
   "cell_type": "markdown",
   "metadata": {},
   "source": [
    "# 遍历循环-for循环"
   ]
  },
  {
   "cell_type": "markdown",
   "metadata": {},
   "source": [
    "```python\n",
    "for 元素 in 可迭代对象：\n",
    "    代码块\n",
    "```"
   ]
  },
  {
   "cell_type": "markdown",
   "metadata": {},
   "source": [
    "## for与else结合\n",
    "如果for循环全部执行完毕，没有被break终止，则运行else块"
   ]
  },
  {
   "cell_type": "markdown",
   "metadata": {},
   "source": [
    "## while和break，continue else\n",
    "* 通用滴"
   ]
  },
  {
   "cell_type": "code",
   "execution_count": null,
   "metadata": {},
   "outputs": [],
   "source": []
  }
 ],
 "metadata": {
  "kernelspec": {
   "display_name": "Python 3",
   "language": "python",
   "name": "python3"
  },
  "language_info": {
   "codemirror_mode": {
    "name": "ipython",
    "version": 3
   },
   "file_extension": ".py",
   "mimetype": "text/x-python",
   "name": "python",
   "nbconvert_exporter": "python",
   "pygments_lexer": "ipython3",
   "version": "3.6.9"
  }
 },
 "nbformat": 4,
 "nbformat_minor": 2
}
