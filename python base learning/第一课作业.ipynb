{
 "cells": [
  {
   "cell_type": "markdown",
   "metadata": {},
   "source": [
    "1. A A B 不可以\n",
    "2. A：合法，B，C，D，均不合法，B的首位不能是数字，C不能和关键字相同，D变量名不可以有空格"
   ]
  },
  {
   "cell_type": "code",
   "execution_count": 2,
   "metadata": {},
   "outputs": [],
   "source": [
    "a,b,c,d,e = 1,2,3,4,5"
   ]
  },
  {
   "cell_type": "markdown",
   "metadata": {},
   "source": [
    "* 下划线方式：number_of_teacher\n",
    "* 驼峰体：NumberOfTeacher"
   ]
  },
  {
   "cell_type": "markdown",
   "metadata": {},
   "source": [
    "3.  * for ：\n",
    "\n",
    "for 变量 in 可迭代对象：\n",
    "    \n",
    "    代码块\n",
    "* while:\n",
    "    while 条件：\n",
    "        代码块\n",
    "* if：\n",
    "    if 条件：\n",
    "        代码块\n",
    "    elif 条件：\n",
    "        代码块\n",
    "    else：\n",
    "        代码块"
   ]
  },
  {
   "cell_type": "markdown",
   "metadata": {},
   "source": [
    " 4. "
   ]
  },
  {
   "cell_type": "code",
   "execution_count": 6,
   "metadata": {},
   "outputs": [
    {
     "name": "stdout",
     "output_type": "stream",
     "text": [
      "请输入第一个数字2\n",
      "请输入第二个数字3\n",
      "6\n"
     ]
    }
   ],
   "source": [
    "number1 = input(\"请输入第一个数字\")\n",
    "number2 = input(\"请输入第二个数字\")\n",
    "print(eval(number1)*eval(number2))"
   ]
  },
  {
   "cell_type": "code",
   "execution_count": 12,
   "metadata": {},
   "outputs": [
    {
     "name": "stdout",
     "output_type": "stream",
     "text": [
      "0.618\n",
      "61.8%\n"
     ]
    }
   ],
   "source": [
    "gold_section = 0.6180339887\n",
    "print(\"{:.3f}\".format(gold_section))\n",
    "print(\"{:.1%}\".format(gold_section))"
   ]
  },
  {
   "cell_type": "code",
   "execution_count": 15,
   "metadata": {},
   "outputs": [
    {
     "name": "stdout",
     "output_type": "stream",
     "text": [
      "________*________\n",
      "_______***_______\n",
      "______*****______\n",
      "_____*******_____\n",
      "____*********____\n",
      "___***********___\n"
     ]
    }
   ],
   "source": [
    "for i in [0,1,2,3,4,5]:\n",
    "    print (\"{:_^17}\".format(\"*\"*(2*i+1)))"
   ]
  },
  {
   "cell_type": "markdown",
   "metadata": {},
   "source": [
    "5. \n",
    "A x += 10\n",
    "\n",
    "B y = (3-1) / 8\n",
    "\n",
    "C t = (1, 2, 3, 4, 5)\n",
    "\n",
    "D x = 10\n",
    "\n",
    "E def fun(x=1,y=2):\n",
    "\n",
    "F if m > 3:\n",
    "    print (\"m大于3\"）"
   ]
  },
  {
   "cell_type": "code",
   "execution_count": null,
   "metadata": {},
   "outputs": [],
   "source": [
    "  "
   ]
  }
 ],
 "metadata": {
  "kernelspec": {
   "display_name": "Python 3",
   "language": "python",
   "name": "python3"
  },
  "language_info": {
   "codemirror_mode": {
    "name": "ipython",
    "version": 3
   },
   "file_extension": ".py",
   "mimetype": "text/x-python",
   "name": "python",
   "nbconvert_exporter": "python",
   "pygments_lexer": "ipython3",
   "version": "3.6.9"
  }
 },
 "nbformat": 4,
 "nbformat_minor": 2
}
