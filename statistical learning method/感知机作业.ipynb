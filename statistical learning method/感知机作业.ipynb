{
 "cells": [
  {
   "cell_type": "markdown",
   "metadata": {},
   "source": [
    "### 推导下列正态分布均值的极大似然估计：\n",
    "数据$x_1,x_2...x_3$来自正态分布$N(\\mu,\\delta^2)$,其中$\\delta$已知\n",
    "1. 根据样本$x_1,x_2...x_3$写出$\\mu$的极大似然估计  \n",
    "$p(x=x_1) = \\frac{1}{\\sqrt{2\\pi\\delta}}e^{-\\frac{(x_1-\\mu)^2}{2\\delta^2}}$  \n",
    "$p(x=x_1)p(x=x_2)...p(x=x_n) = (\\frac{1}{\\sqrt{2\\pi\\delta}})^n e^{\\Sigma_{x=1}^n {-\\frac{(x_n-\\mu)^2}{2\\delta^2}}}$  \n",
    "对其取对数可得：\n",
    "$ log(p(x=x_1)p(x=x_2)...p(x=x_n)) = nlog(\\frac{1}{\\sqrt{2\\pi\\delta}})+\\Sigma_{x=1}^n {-\\frac{(x_n-\\mu)^2}{2\\delta^2}}$  \n",
    "对\\mu求导且令导数为零可知$\\mu =\\frac{\\Sigma_{x=1}^nx_n}{n}$ $p(x1,x2 ...x3)$的概率最大。\n",
    "2. 假设$\\mu$的先验分布为$N(0,\\tau)$ 根据样本$x_1,x_2...x_3$写出$\\mu$的贝叶斯估计估计  \n",
    "$\\pi(\\mu) = \\frac{1}{\\sqrt{2\\pi\\delta}}e^{-\\frac{u^2}{2\\tau^2}}$  \n",
    "$p(\\mu|x_1,x_2...x_n)= \\frac{1}{\\sqrt{2\\pi\\delta}}e^{-\\frac{u^2}{2\\tau^2}} (\\frac{1}{\\sqrt{2\\pi\\delta}})^n e^{\\Sigma_{x=1}^n {-\\frac{(x_n-\\mu)^2}{2\\delta^2}}} $  \n",
    "取对数同时令导数为0可得\n",
    "$\\mu = \\frac{\\tau^2 \\Sigma_{x=1}^n{x_n}}{\\delta^2+n\\tau^2}$ 时联合概率密度最大"
   ]
  },
  {
   "cell_type": "markdown",
   "metadata": {},
   "source": [
    "1.感知机的假设空间是什么，模型复杂度体现在哪里  \n",
    "答：感知机的假设空间是线性分类模型，复杂度体现在输入特征向量的维度上。"
   ]
  },
  {
   "cell_type": "code",
   "execution_count": 2,
   "metadata": {},
   "outputs": [],
   "source": [
    "import numpy as np"
   ]
  },
  {
   "cell_type": "code",
   "execution_count": 3,
   "metadata": {},
   "outputs": [],
   "source": [
    "def generate_data():\n",
    "    # X,Y =sklearn.datasets.make_classification(n_samples=100,n_features= 2,n_classes=2,n_redundant=0)\n",
    "    X = np.array([[3,3],[4,3],[1,1]])\n",
    "    Y = np.array([1,1,-1])\n",
    "    return X,Y"
   ]
  },
  {
   "cell_type": "code",
   "execution_count": 4,
   "metadata": {},
   "outputs": [],
   "source": [
    "def generate_fake_data(n,params):\n",
    "    '''\n",
    "    返回一个自己生成的给定分界线的二分类数据集\n",
    "    '''\n",
    "    X = np.random.randn(100,2)\n",
    "    Y = np.sign(np.dot(X,params[\"w\"])+params[\"b\"]).flatten()\n",
    "    return X,Y"
   ]
  },
  {
   "cell_type": "code",
   "execution_count": 5,
   "metadata": {},
   "outputs": [],
   "source": [
    "%matplotlib inline \n",
    "import matplotlib.pyplot as plt"
   ]
  },
  {
   "cell_type": "code",
   "execution_count": 132,
   "metadata": {},
   "outputs": [],
   "source": [
    "# 函数及数据集生成\n",
    "params={}\n",
    "params[\"w\"] = np.array([[1],[1]])\n",
    "params[\"b\"] = 1\n",
    "X,Y = generate_fake_data(100,params)"
   ]
  },
  {
   "cell_type": "code",
   "execution_count": 133,
   "metadata": {},
   "outputs": [
    {
     "data": {
      "text/plain": [
       "<matplotlib.collections.PathCollection at 0x1a21ccba58>"
      ]
     },
     "execution_count": 133,
     "metadata": {},
     "output_type": "execute_result"
    },
    {
     "data": {
      "image/png": "[encoded data removed]",
      "text/plain": [
       "<Figure size 432x288 with 1 Axes>"
      ]
     },
     "metadata": {
      "needs_background": "light"
     },
     "output_type": "display_data"
    }
   ],
   "source": [
    "plt.scatter(X[:,0],X[:,1],c=Y)"
   ]
  },
  {
   "cell_type": "code",
   "execution_count": 6,
   "metadata": {},
   "outputs": [],
   "source": [
    "def cost_function(X,Y,params):\n",
    "    '''\n",
    "    计算损失函数为误分类点到分类超平面的距离\n",
    "    '''\n",
    "    predict_Y = my_predict(X,params)\n",
    "    False_X = X[predict_Y != Y]\n",
    "    False_Y = Y[predict_Y != Y]\n",
    "    return -np.sum((np.dot(False_X,params[\"w\"])+params[\"b\"]).flatten()*False_Y)\n",
    "# params[\"w\"] = np.array([[1],[1]])\n",
    "# params[\"b\"] = 1\n",
    "# cost_function(X,Y,params)"
   ]
  },
  {
   "cell_type": "code",
   "execution_count": 7,
   "metadata": {},
   "outputs": [],
   "source": [
    "def my_predict(X,params):\n",
    "    return np.sign(np.dot(X,params[\"w\"])+params[\"b\"]).flatten()"
   ]
  },
  {
   "cell_type": "code",
   "execution_count": 8,
   "metadata": {},
   "outputs": [],
   "source": [
    "def train_one_time(x,y,params,delta):\n",
    "    params[\"w\"] = params[\"w\"] + delta * x.reshape(2,1) * y\n",
    "    params[\"b\"] = params[\"b\"] + delta * y\n",
    "    return params\n"
   ]
  },
  {
   "cell_type": "code",
   "execution_count": 9,
   "metadata": {},
   "outputs": [],
   "source": [
    "def choice_false_one(X,Y,params):\n",
    "    predict_Y = np.sign(np.dot(X,params[\"w\"])+params[\"b\"]).flatten()\n",
    "    if (predict_Y == Y).all() == True:\n",
    "        return None,None\n",
    "    False_X = X[predict_Y != Y]\n",
    "    False_Y = Y[predict_Y != Y]\n",
    "    r = np.random.randint(0,False_X.shape[0])\n",
    "    return False_X[r],False_Y[r]\n",
    "\n",
    "# params[\"w\"] = np.array([[0],[0]])\n",
    "# params[\"b\"] = 0\n",
    "# x,y = choice_false_one(X,Y,params)\n",
    "# print(x,y)\n",
    "# print(x.shape)\n",
    "# params[\"w\"] = np.array([[1],[1]])\n",
    "# params[\"b\"] = 1\n",
    "# x,y = choice_false_one(X,Y,params)\n",
    "# print(x,y)"
   ]
  },
  {
   "cell_type": "code",
   "execution_count": 203,
   "metadata": {},
   "outputs": [
    {
     "data": {
      "text/plain": [
       "False"
      ]
     },
     "execution_count": 203,
     "metadata": {},
     "output_type": "execute_result"
    }
   ],
   "source": [
    "a = np.array([False,True,True])\n",
    "a.all()== True"
   ]
  },
  {
   "cell_type": "code",
   "execution_count": 154,
   "metadata": {},
   "outputs": [
    {
     "data": {
      "text/plain": [
       "array([ True,  True,  True])"
      ]
     },
     "execution_count": 154,
     "metadata": {},
     "output_type": "execute_result"
    }
   ],
   "source": [
    "a=np.array([1,2,3])\n",
    "b=np.array([1,2,3])\n",
    "a == b"
   ]
  },
  {
   "cell_type": "code",
   "execution_count": null,
   "metadata": {},
   "outputs": [],
   "source": []
  },
  {
   "cell_type": "code",
   "execution_count": 103,
   "metadata": {},
   "outputs": [
    {
     "data": {
      "text/plain": [
       "(100, 2)"
      ]
     },
     "execution_count": 103,
     "metadata": {},
     "output_type": "execute_result"
    }
   ],
   "source": [
    "X.shape"
   ]
  },
  {
   "cell_type": "code",
   "execution_count": 10,
   "metadata": {},
   "outputs": [],
   "source": [
    "def main():\n",
    "    '''\n",
    "    主函数\n",
    "    '''\n",
    "    target_params={}\n",
    "    target_params[\"w\"] = np.array([[1],[1]])\n",
    "    target_params[\"b\"] = 1\n",
    "    X,Y = generate_fake_data(100,target_params)\n",
    "#     X = np.array([[3,3],[4,3],[1,1]])\n",
    "#     Y = np.array([1,1,-1])\n",
    "    params={}\n",
    "    params[\"w\"] = np.array([[0],[0]]) # 权值初始化\n",
    "    params[\"b\"] = 0\n",
    "    costs =[]\n",
    "    for i in range(2000):\n",
    "        x,y = choice_false_one(X,Y,params)\n",
    "        if x is None:\n",
    "            break\n",
    "        else:\n",
    "            params = train_one_time(x,y,params,0.01)\n",
    "#            print(params)\n",
    "#             print(X.shape)\n",
    "#             print(params[\"w\"].shape)\n",
    "#             print(np.dot(X,params[\"w\"]).shape)\n",
    "#             print(-np.sum((np.dot(X,params[\"w\"])+params[\"b\"]).flatten()*Y))\n",
    "            costs.append(cost_function(X,Y,params))\n",
    "    print (params)\n",
    "    predict = my_predict(X,params)\n",
    "#     plt.scatter(X[:,0],X[:,1],c=predict)\n",
    "    \n",
    "#     plt.subplot(211)\n",
    "#     plt.scatter(X[:,0],X[:,1],c=Y)\n",
    "#     plt.subplot(212)\n",
    "\n",
    "    grid = plt.GridSpec(2, 2, wspace=0.5, hspace=0.5)\n",
    "\n",
    "    plt.subplot(grid[0,0])\n",
    "    plt.scatter(X[:,0],X[:,1],c=Y)\n",
    "    plt.title(\"real data\")\n",
    "    plt.subplot(grid[1,0])\n",
    "    plt.scatter(X[:,0],X[:,1],c=predict)\n",
    "    plt.title(\"predict data\")\n",
    "\n",
    "    plt.subplot(grid[:,1])\n",
    "    plt.plot(np.arange(len(costs)),costs)"
   ]
  },
  {
   "cell_type": "code",
   "execution_count": 11,
   "metadata": {},
   "outputs": [
    {
     "name": "stdout",
     "output_type": "stream",
     "text": [
      "{'w': array([[0.03158316],\n",
      "       [0.03028727]]), 'b': 0.03}\n"
     ]
    },
    {
     "data": {
      "image/png": "[encoded data removed]",
      "text/plain": [
       "<Figure size 432x288 with 3 Axes>"
      ]
     },
     "metadata": {
      "needs_background": "light"
     },
     "output_type": "display_data"
    }
   ],
   "source": [
    "main()"
   ]
  },
  {
   "cell_type": "code",
   "execution_count": 225,
   "metadata": {},
   "outputs": [
    {
     "data": {
      "text/plain": [
       "1.0"
      ]
     },
     "execution_count": 225,
     "metadata": {},
     "output_type": "execute_result"
    }
   ],
   "source": []
  },
  {
   "cell_type": "code",
   "execution_count": 221,
   "metadata": {},
   "outputs": [
    {
     "ename": "NameError",
     "evalue": "name 'predict_Y' is not defined",
     "output_type": "error",
     "traceback": [
      "\u001b[0;31m---------------------------------------------------------------------------\u001b[0m",
      "\u001b[0;31mNameError\u001b[0m                                 Traceback (most recent call last)",
      "\u001b[0;32m<ipython-input-221-e5b08523dc43>\u001b[0m in \u001b[0;36m<module>\u001b[0;34m\u001b[0m\n\u001b[0;32m----> 1\u001b[0;31m \u001b[0mplt\u001b[0m\u001b[0;34m.\u001b[0m\u001b[0mscatter\u001b[0m\u001b[0;34m(\u001b[0m\u001b[0mX\u001b[0m\u001b[0;34m[\u001b[0m\u001b[0;34m:\u001b[0m\u001b[0;34m,\u001b[0m\u001b[0;36m0\u001b[0m\u001b[0;34m]\u001b[0m\u001b[0;34m,\u001b[0m\u001b[0mX\u001b[0m\u001b[0;34m[\u001b[0m\u001b[0;34m:\u001b[0m\u001b[0;34m,\u001b[0m\u001b[0;36m1\u001b[0m\u001b[0;34m]\u001b[0m\u001b[0;34m,\u001b[0m\u001b[0mc\u001b[0m\u001b[0;34m=\u001b[0m\u001b[0mpredict_Y\u001b[0m\u001b[0;34m)\u001b[0m\u001b[0;34m\u001b[0m\u001b[0;34m\u001b[0m\u001b[0m\n\u001b[0m",
      "\u001b[0;31mNameError\u001b[0m: name 'predict_Y' is not defined"
     ]
    }
   ],
   "source": [
    "plt.scatter(X[:,0],X[:,1],c=predict)"
   ]
  },
  {
   "cell_type": "code",
   "execution_count": 140,
   "metadata": {},
   "outputs": [],
   "source": [
    "def generate_data():\n",
    "    # X,Y =sklearn.datasets.make_classification(n_samples=100,n_features= 2,n_classes=2,n_redundant=0)\n",
    "    X = np.array([[3,3],[4,3],[1,1]])\n",
    "    Y = np.array([1,1,-1])\n",
    "    return X,Y\n",
    "def generate_fake_data(n,params):\n",
    "    '''\n",
    "    返回一个自己生成的给定分界线的二分类数据集\n",
    "    '''\n",
    "    X = np.random.randn(100,2)\n",
    "    Y = np.sign(np.dot(X,params[\"w\"])+params[\"b\"]).flatten()\n",
    "    return X,Y\n",
    "def cost_function(X,Y,params):\n",
    "    '''\n",
    "    计算损失函数为误分类点到分类超平面的距离\n",
    "    '''\n",
    "    predict_Y = my_predict(X,params)\n",
    "    False_X = X[predict_Y != Y]\n",
    "    False_Y = Y[predict_Y != Y]\n",
    "    return -np.sum((np.dot(False_X,params[\"w\"])+params[\"b\"]).flatten()*False_Y)\n",
    "\n",
    "def my_predict(X,params):\n",
    "    return np.sign(np.dot(X,params[\"w\"])+params[\"b\"]).flatten()\n",
    "\n",
    "\n",
    "\n",
    "def Stochastic_gradient(X,Y):\n",
    "    def train_one_time(x,y,params,delta):\n",
    "        params[\"w\"] = params[\"w\"] + delta * x.reshape(2,1) * y\n",
    "        params[\"b\"] = params[\"b\"] + delta * y\n",
    "        return params\n",
    "    \n",
    "    def choice_false_one(X,Y,params):\n",
    "        predict_Y = np.sign(np.dot(X,params[\"w\"])+params[\"b\"]).flatten()\n",
    "        if (predict_Y == Y).all() == True:\n",
    "            return None,None\n",
    "        False_X = X[predict_Y != Y]\n",
    "        False_Y = Y[predict_Y != Y]\n",
    "        r = np.random.randint(0,False_X.shape[0])\n",
    "        return False_X[r],False_Y[r]\n",
    "\n",
    "\n",
    "    params={}\n",
    "    params[\"w\"] = np.array([[0],[0]]) # 权值初始化\n",
    "    params[\"b\"] = 0\n",
    "    costs =[]\n",
    "    for i in range(2000):\n",
    "        x,y = choice_false_one(X,Y,params)\n",
    "        if x is None:\n",
    "            break\n",
    "        else:\n",
    "            params = train_one_time(x,y,params,0.01)\n",
    "            costs.append(cost_function(X,Y,params))\n",
    "    print (params)\n",
    "    predict = my_predict(X,params)\n",
    "    grid = plt.GridSpec(2, 2, wspace=0.5, hspace=0.5)\n",
    "    plt.subplot(grid[0,0])\n",
    "    plt.scatter(X[:,0],X[:,1],c=Y)\n",
    "    plt.title(\"real data\")\n",
    "    plt.subplot(grid[1,0])\n",
    "    plt.scatter(X[:,0],X[:,1],c=predict)\n",
    "    plt.title(\"predict data\")\n",
    "    plt.subplot(grid[:,1])\n",
    "    plt.plot(np.arange(len(costs)),costs)\n",
    "def dual_of_perceptron(X, Y): # 感知机对偶形式 不知道英文对不对\n",
    "    \n",
    "    def gram(X):\n",
    "        return np.dot(X , X.T)\n",
    "    def alpha_to_params(X,Y,a,b):\n",
    "        params={}\n",
    "        params[\"w\"] = np.sum(a*Y.reshape(Y.shape[0],1)*X,axis=0)\n",
    "        params[\"b\"] = b\n",
    "        return params\n",
    "        \n",
    "    def train_one_time(r, a, b, Y, delta):\n",
    "        a[r] += delta\n",
    "        b += delta * Y[r]\n",
    "        return a, b\n",
    "    \n",
    "    a = np.zeros((X.shape[0],1)) # 初始化a 和 b\n",
    "    b = 0\n",
    "    G = gram(X)\n",
    "#     print(\"x:\",X)\n",
    "    train_complete = False\n",
    "    j = 0\n",
    "    while train_complete == False:\n",
    "        for i in range(X.shape[0]):            \n",
    "            judgetemp = Y[i] * (np.sum(a * Y.reshape(Y.shape[0], 1) * G[:,i].reshape(Y.shape[0], 1)) + b)\n",
    "            if judgetemp <= 0:\n",
    "                a, b= train_one_time(i, a, b, Y, 1)\n",
    "                break\n",
    "        else:\n",
    "            train_complete = True\n",
    "            \n",
    "    \n",
    "\n",
    "    params = alpha_to_params(X, Y, a, b)    \n",
    "    predict = my_predict(X,params)\n",
    "    #grid = plt.GridSpec(2, 2, wspace=0.5, hspace=0.5)\n",
    "    plt.subplot(121)\n",
    "    plt.scatter(X[:,0],X[:,1],c=Y)\n",
    "    plt.title(\"real data\")\n",
    "    plt.subplot(122)\n",
    "    plt.scatter(X[:,0],X[:,1],c=predict)\n",
    "    plt.title(\"predict data\")\n",
    "def main():\n",
    "    '''\n",
    "    主函数\n",
    "    '''\n",
    "#     target_params={}\n",
    "#     target_params[\"w\"] = np.array([[1],[1]])\n",
    "#     target_params[\"b\"] = 1\n",
    "#     X,Y = generate_fake_data(100,target_params)\n",
    "    X,Y = generate_data()\n",
    "    %timeit Stochastic_gradient(X, Y)\n",
    "    %timeit dual_of_perceptron(X, Y)\n",
    "    \n"
   ]
  },
  {
   "cell_type": "code",
   "execution_count": 139,
   "metadata": {},
   "outputs": [
    {
     "data": {
      "image/png": "[encoded data removed]",
      "text/plain": [
       "<Figure size 432x288 with 2 Axes>"
      ]
     },
     "metadata": {
      "needs_background": "light"
     },
     "output_type": "display_data"
    }
   ],
   "source": [
    "    X,Y = generate_data()\n",
    "    dual_of_perceptron(X, Y)"
   ]
  },
  {
   "cell_type": "code",
   "execution_count": 109,
   "metadata": {},
   "outputs": [
    {
     "data": {
      "text/plain": [
       "array([[18, 21,  6],\n",
       "       [21, 25,  7],\n",
       "       [ 6,  7,  2]])"
      ]
     },
     "execution_count": 109,
     "metadata": {},
     "output_type": "execute_result"
    }
   ],
   "source": [
    "def gram(X):\n",
    "    return np.dot(X , X.T)\n",
    "def alpha_to_params(X,Y,a):\n",
    "    params={}\n",
    "    params[\"w\"] = np.sum(a*Y.reshape(Y.shape[0],1)*X,axis=0)\n",
    "    params[\"b\"] = np.sum(a*Y)\n",
    "    return params\n",
    "X,Y = generate_data()\n",
    "a=np.array([[1], [2], [3]])\n",
    "alpha_to_params(X, Y ,a)\n",
    "gram(X)"
   ]
  },
  {
   "cell_type": "code",
   "execution_count": 39,
   "metadata": {},
   "outputs": [
    {
     "name": "stdout",
     "output_type": "stream",
     "text": [
      "(3, 1)\n",
      "(3,)\n",
      "(3, 2)\n",
      "[ 1  1 -1]\n",
      "[[3 3]\n",
      " [4 3]\n",
      " [1 1]]\n",
      "[8 6]\n"
     ]
    }
   ],
   "source": [
    "print(a.shape)\n",
    "print(Y.shape)\n",
    "print(X.shape)\n",
    "print(Y)\n",
    "print(X)\n",
    "print(np.sum(a*Y.reshape(Y.shape[0],1)*X,axis=0))"
   ]
  },
  {
   "cell_type": "code",
   "execution_count": 142,
   "metadata": {},
   "outputs": [],
   "source": [
    "X,Y = generate_data()"
   ]
  },
  {
   "cell_type": "code",
   "execution_count": 143,
   "metadata": {},
   "outputs": [
    {
     "name": "stdout",
     "output_type": "stream",
     "text": [
      "{'w': array([[0.01],\n",
      "       [0.01]]), 'b': -0.03}\n",
      "{'w': array([[ 1.00000000e-02],\n",
      "       [-3.46944695e-18]]), 'b': -0.02}\n",
      "{'w': array([[ 1.00000000e-02],\n",
      "       [-3.46944695e-18]]), 'b': -0.02}\n",
      "{'w': array([[ 1.00000000e-02],\n",
      "       [-3.46944695e-18]]), 'b': -0.02}\n",
      "{'w': array([[ 1.00000000e-02],\n",
      "       [-3.46944695e-18]]), 'b': -0.02}\n",
      "{'w': array([[ 1.00000000e-02],\n",
      "       [-3.46944695e-18]]), 'b': -0.02}\n",
      "{'w': array([[0.01],\n",
      "       [0.01]]), 'b': -0.03}\n",
      "{'w': array([[0.02],\n",
      "       [0.01]]), 'b': -0.03}\n",
      "{'w': array([[0.01],\n",
      "       [0.01]]), 'b': -0.03}\n",
      "{'w': array([[ 1.00000000e-02],\n",
      "       [-3.46944695e-18]]), 'b': -0.02}\n",
      "{'w': array([[0.01],\n",
      "       [0.01]]), 'b': -0.03}\n",
      "{'w': array([[ 1.00000000e-02],\n",
      "       [-3.46944695e-18]]), 'b': -0.02}\n",
      "{'w': array([[ 1.00000000e-02],\n",
      "       [-3.46944695e-18]]), 'b': -0.02}\n",
      "{'w': array([[ 1.00000000e-02],\n",
      "       [-3.46944695e-18]]), 'b': -0.02}\n",
      "{'w': array([[ 1.00000000e-02],\n",
      "       [-3.46944695e-18]]), 'b': -0.02}\n",
      "{'w': array([[0.02],\n",
      "       [0.01]]), 'b': -0.03}\n",
      "{'w': array([[0.02],\n",
      "       [0.01]]), 'b': -0.03}\n",
      "{'w': array([[ 1.00000000e-02],\n",
      "       [-3.46944695e-18]]), 'b': -0.02}\n",
      "{'w': array([[0.02],\n",
      "       [0.01]]), 'b': -0.03}\n",
      "{'w': array([[ 1.00000000e-02],\n",
      "       [-3.46944695e-18]]), 'b': -0.02}\n",
      "{'w': array([[0.02],\n",
      "       [0.01]]), 'b': -0.03}\n",
      "{'w': array([[0.02],\n",
      "       [0.01]]), 'b': -0.03}\n",
      "{'w': array([[0.02],\n",
      "       [0.01]]), 'b': -0.03}\n",
      "{'w': array([[0.01],\n",
      "       [0.01]]), 'b': -0.03}\n",
      "{'w': array([[ 1.00000000e-02],\n",
      "       [-3.46944695e-18]]), 'b': -0.02}\n",
      "{'w': array([[0.01],\n",
      "       [0.01]]), 'b': -0.03}\n",
      "{'w': array([[0.02],\n",
      "       [0.01]]), 'b': -0.03}\n",
      "{'w': array([[ 1.00000000e-02],\n",
      "       [-3.46944695e-18]]), 'b': -0.02}\n",
      "{'w': array([[0.01],\n",
      "       [0.01]]), 'b': -0.03}\n",
      "{'w': array([[0.02],\n",
      "       [0.01]]), 'b': -0.03}\n",
      "{'w': array([[0.01],\n",
      "       [0.01]]), 'b': -0.03}\n",
      "{'w': array([[0.02],\n",
      "       [0.01]]), 'b': -0.03}\n",
      "{'w': array([[0.01],\n",
      "       [0.01]]), 'b': -0.03}\n",
      "{'w': array([[0.01],\n",
      "       [0.01]]), 'b': -0.03}\n",
      "{'w': array([[ 1.00000000e-02],\n",
      "       [-3.46944695e-18]]), 'b': -0.02}\n",
      "{'w': array([[0.02],\n",
      "       [0.01]]), 'b': -0.03}\n",
      "{'w': array([[0.02],\n",
      "       [0.01]]), 'b': -0.03}\n",
      "{'w': array([[ 1.00000000e-02],\n",
      "       [-3.46944695e-18]]), 'b': -0.02}\n",
      "{'w': array([[ 1.00000000e-02],\n",
      "       [-3.46944695e-18]]), 'b': -0.02}\n",
      "{'w': array([[ 1.00000000e-02],\n",
      "       [-3.46944695e-18]]), 'b': -0.02}\n",
      "{'w': array([[0.02],\n",
      "       [0.01]]), 'b': -0.03}\n",
      "{'w': array([[0.02],\n",
      "       [0.01]]), 'b': -0.03}\n",
      "{'w': array([[ 1.00000000e-02],\n",
      "       [-3.46944695e-18]]), 'b': -0.02}\n",
      "{'w': array([[0.01],\n",
      "       [0.01]]), 'b': -0.03}\n",
      "{'w': array([[0.01],\n",
      "       [0.01]]), 'b': -0.03}\n",
      "{'w': array([[0.01],\n",
      "       [0.01]]), 'b': -0.03}\n",
      "{'w': array([[ 1.00000000e-02],\n",
      "       [-3.46944695e-18]]), 'b': -0.02}\n",
      "{'w': array([[0.02],\n",
      "       [0.01]]), 'b': -0.03}\n",
      "{'w': array([[ 1.00000000e-02],\n",
      "       [-3.46944695e-18]]), 'b': -0.02}\n",
      "{'w': array([[0.02],\n",
      "       [0.01]]), 'b': -0.03}\n",
      "{'w': array([[0.02],\n",
      "       [0.01]]), 'b': -0.03}\n",
      "{'w': array([[0.01],\n",
      "       [0.01]]), 'b': -0.03}\n",
      "{'w': array([[ 1.00000000e-02],\n",
      "       [-3.46944695e-18]]), 'b': -0.02}\n",
      "{'w': array([[ 1.00000000e-02],\n",
      "       [-3.46944695e-18]]), 'b': -0.02}\n",
      "{'w': array([[ 1.00000000e-02],\n",
      "       [-3.46944695e-18]]), 'b': -0.02}\n",
      "{'w': array([[ 1.00000000e-02],\n",
      "       [-3.46944695e-18]]), 'b': -0.02}\n",
      "{'w': array([[0.01],\n",
      "       [0.01]]), 'b': -0.03}\n",
      "{'w': array([[ 1.00000000e-02],\n",
      "       [-3.46944695e-18]]), 'b': -0.02}\n",
      "{'w': array([[0.02],\n",
      "       [0.01]]), 'b': -0.03}\n",
      "{'w': array([[0.01],\n",
      "       [0.01]]), 'b': -0.03}\n",
      "{'w': array([[0.02],\n",
      "       [0.01]]), 'b': -0.03}\n",
      "{'w': array([[ 1.00000000e-02],\n",
      "       [-3.46944695e-18]]), 'b': -0.02}\n",
      "{'w': array([[0.01],\n",
      "       [0.01]]), 'b': -0.03}\n",
      "{'w': array([[0.02],\n",
      "       [0.01]]), 'b': -0.03}\n",
      "{'w': array([[0.01],\n",
      "       [0.01]]), 'b': -0.03}\n",
      "{'w': array([[ 1.00000000e-02],\n",
      "       [-3.46944695e-18]]), 'b': -0.02}\n",
      "{'w': array([[0.01],\n",
      "       [0.01]]), 'b': -0.03}\n",
      "{'w': array([[0.02],\n",
      "       [0.01]]), 'b': -0.03}\n",
      "{'w': array([[ 1.00000000e-02],\n",
      "       [-3.46944695e-18]]), 'b': -0.02}\n",
      "{'w': array([[ 1.00000000e-02],\n",
      "       [-3.46944695e-18]]), 'b': -0.02}\n",
      "{'w': array([[ 1.00000000e-02],\n",
      "       [-3.46944695e-18]]), 'b': -0.02}\n",
      "{'w': array([[ 1.00000000e-02],\n",
      "       [-3.46944695e-18]]), 'b': -0.02}\n",
      "{'w': array([[ 1.00000000e-02],\n",
      "       [-3.46944695e-18]]), 'b': -0.02}\n",
      "{'w': array([[ 1.00000000e-02],\n",
      "       [-3.46944695e-18]]), 'b': -0.02}\n",
      "{'w': array([[ 1.00000000e-02],\n",
      "       [-3.46944695e-18]]), 'b': -0.02}\n",
      "{'w': array([[ 1.00000000e-02],\n",
      "       [-3.46944695e-18]]), 'b': -0.02}\n",
      "{'w': array([[ 1.00000000e-02],\n",
      "       [-3.46944695e-18]]), 'b': -0.02}\n",
      "{'w': array([[0.01],\n",
      "       [0.01]]), 'b': -0.03}\n",
      "{'w': array([[ 1.00000000e-02],\n",
      "       [-3.46944695e-18]]), 'b': -0.02}\n",
      "{'w': array([[ 1.00000000e-02],\n",
      "       [-3.46944695e-18]]), 'b': -0.02}\n",
      "{'w': array([[0.01],\n",
      "       [0.01]]), 'b': -0.03}\n",
      "40 ms ± 4.19 ms per loop (mean ± std. dev. of 7 runs, 10 loops each)\n"
     ]
    },
    {
     "data": {
      "image/png": "[encoded data removed]",
      "text/plain": [
       "<Figure size 432x288 with 3 Axes>"
      ]
     },
     "metadata": {
      "needs_background": "light"
     },
     "output_type": "display_data"
    }
   ],
   "source": [
    "%timeit Stochastic_gradient(X, Y)"
   ]
  },
  {
   "cell_type": "code",
   "execution_count": 144,
   "metadata": {},
   "outputs": [
    {
     "name": "stderr",
     "output_type": "stream",
     "text": [
      "/Users/apple/anaconda3/lib/python3.6/site-packages/ipykernel_launcher.py:100: MatplotlibDeprecationWarning: Adding an axes using the same arguments as a previous axes currently reuses the earlier instance.  In a future version, a new instance will always be created and returned.  Meanwhile, this warning can be suppressed, and the future behavior ensured, by passing a unique label to each axes instance.\n",
      "/Users/apple/anaconda3/lib/python3.6/site-packages/ipykernel_launcher.py:103: MatplotlibDeprecationWarning: Adding an axes using the same arguments as a previous axes currently reuses the earlier instance.  In a future version, a new instance will always be created and returned.  Meanwhile, this warning can be suppressed, and the future behavior ensured, by passing a unique label to each axes instance.\n"
     ]
    },
    {
     "name": "stdout",
     "output_type": "stream",
     "text": [
      "5.43 ms ± 252 µs per loop (mean ± std. dev. of 7 runs, 100 loops each)\n"
     ]
    },
    {
     "data": {
      "image/png": "[encoded data removed]",
      "text/plain": [
       "<Figure size 432x288 with 2 Axes>"
      ]
     },
     "metadata": {
      "needs_background": "light"
     },
     "output_type": "display_data"
    }
   ],
   "source": [
    "%timeit dual_of_perceptron(X, Y) # 确实比较快"
   ]
  },
  {
   "cell_type": "code",
   "execution_count": 149,
   "metadata": {},
   "outputs": [
    {
     "name": "stdout",
     "output_type": "stream",
     "text": [
      "527 µs ± 12.6 µs per loop (mean ± std. dev. of 7 runs, 1000 loops each)\n",
      "[[1. 0.]]\n"
     ]
    }
   ],
   "source": [
    "from sklearn.linear_model import Perceptron\n",
    "#定义感知机\n",
    "clf = Perceptron()\n",
    "#使用训练数据进行训练 好快好快\n",
    "%timeit clf.fit(X , Y)\n",
    "print(clf.coef_)"
   ]
  },
  {
   "cell_type": "code",
   "execution_count": 146,
   "metadata": {},
   "outputs": [
    {
     "data": {
      "text/plain": [
       "\u001b[0;31mInit signature:\u001b[0m\n",
       "\u001b[0mPerceptron\u001b[0m\u001b[0;34m(\u001b[0m\u001b[0;34m\u001b[0m\n",
       "\u001b[0;34m\u001b[0m    \u001b[0mpenalty\u001b[0m\u001b[0;34m=\u001b[0m\u001b[0;32mNone\u001b[0m\u001b[0;34m,\u001b[0m\u001b[0;34m\u001b[0m\n",
       "\u001b[0;34m\u001b[0m    \u001b[0malpha\u001b[0m\u001b[0;34m=\u001b[0m\u001b[0;36m0.0001\u001b[0m\u001b[0;34m,\u001b[0m\u001b[0;34m\u001b[0m\n",
       "\u001b[0;34m\u001b[0m    \u001b[0mfit_intercept\u001b[0m\u001b[0;34m=\u001b[0m\u001b[0;32mTrue\u001b[0m\u001b[0;34m,\u001b[0m\u001b[0;34m\u001b[0m\n",
       "\u001b[0;34m\u001b[0m    \u001b[0mmax_iter\u001b[0m\u001b[0;34m=\u001b[0m\u001b[0;36m1000\u001b[0m\u001b[0;34m,\u001b[0m\u001b[0;34m\u001b[0m\n",
       "\u001b[0;34m\u001b[0m    \u001b[0mtol\u001b[0m\u001b[0;34m=\u001b[0m\u001b[0;36m0.001\u001b[0m\u001b[0;34m,\u001b[0m\u001b[0;34m\u001b[0m\n",
       "\u001b[0;34m\u001b[0m    \u001b[0mshuffle\u001b[0m\u001b[0;34m=\u001b[0m\u001b[0;32mTrue\u001b[0m\u001b[0;34m,\u001b[0m\u001b[0;34m\u001b[0m\n",
       "\u001b[0;34m\u001b[0m    \u001b[0mverbose\u001b[0m\u001b[0;34m=\u001b[0m\u001b[0;36m0\u001b[0m\u001b[0;34m,\u001b[0m\u001b[0;34m\u001b[0m\n",
       "\u001b[0;34m\u001b[0m    \u001b[0meta0\u001b[0m\u001b[0;34m=\u001b[0m\u001b[0;36m1.0\u001b[0m\u001b[0;34m,\u001b[0m\u001b[0;34m\u001b[0m\n",
       "\u001b[0;34m\u001b[0m    \u001b[0mn_jobs\u001b[0m\u001b[0;34m=\u001b[0m\u001b[0;32mNone\u001b[0m\u001b[0;34m,\u001b[0m\u001b[0;34m\u001b[0m\n",
       "\u001b[0;34m\u001b[0m    \u001b[0mrandom_state\u001b[0m\u001b[0;34m=\u001b[0m\u001b[0;36m0\u001b[0m\u001b[0;34m,\u001b[0m\u001b[0;34m\u001b[0m\n",
       "\u001b[0;34m\u001b[0m    \u001b[0mearly_stopping\u001b[0m\u001b[0;34m=\u001b[0m\u001b[0;32mFalse\u001b[0m\u001b[0;34m,\u001b[0m\u001b[0;34m\u001b[0m\n",
       "\u001b[0;34m\u001b[0m    \u001b[0mvalidation_fraction\u001b[0m\u001b[0;34m=\u001b[0m\u001b[0;36m0.1\u001b[0m\u001b[0;34m,\u001b[0m\u001b[0;34m\u001b[0m\n",
       "\u001b[0;34m\u001b[0m    \u001b[0mn_iter_no_change\u001b[0m\u001b[0;34m=\u001b[0m\u001b[0;36m5\u001b[0m\u001b[0;34m,\u001b[0m\u001b[0;34m\u001b[0m\n",
       "\u001b[0;34m\u001b[0m    \u001b[0mclass_weight\u001b[0m\u001b[0;34m=\u001b[0m\u001b[0;32mNone\u001b[0m\u001b[0;34m,\u001b[0m\u001b[0;34m\u001b[0m\n",
       "\u001b[0;34m\u001b[0m    \u001b[0mwarm_start\u001b[0m\u001b[0;34m=\u001b[0m\u001b[0;32mFalse\u001b[0m\u001b[0;34m,\u001b[0m\u001b[0;34m\u001b[0m\n",
       "\u001b[0;34m\u001b[0m\u001b[0;34m)\u001b[0m\u001b[0;34m\u001b[0m\u001b[0;34m\u001b[0m\u001b[0m\n",
       "\u001b[0;31mDocstring:\u001b[0m     \n",
       "Perceptron\n",
       "\n",
       "Read more in the :ref:`User Guide <perceptron>`.\n",
       "\n",
       "Parameters\n",
       "----------\n",
       "\n",
       "penalty : None, 'l2' or 'l1' or 'elasticnet'\n",
       "    The penalty (aka regularization term) to be used. Defaults to None.\n",
       "\n",
       "alpha : float\n",
       "    Constant that multiplies the regularization term if regularization is\n",
       "    used. Defaults to 0.0001\n",
       "\n",
       "fit_intercept : bool\n",
       "    Whether the intercept should be estimated or not. If False, the\n",
       "    data is assumed to be already centered. Defaults to True.\n",
       "\n",
       "max_iter : int, optional (default=1000)\n",
       "    The maximum number of passes over the training data (aka epochs).\n",
       "    It only impacts the behavior in the ``fit`` method, and not the\n",
       "    `partial_fit`.\n",
       "\n",
       "    .. versionadded:: 0.19\n",
       "\n",
       "tol : float or None, optional (default=1e-3)\n",
       "    The stopping criterion. If it is not None, the iterations will stop\n",
       "    when (loss > previous_loss - tol).\n",
       "\n",
       "    .. versionadded:: 0.19\n",
       "\n",
       "shuffle : bool, optional, default True\n",
       "    Whether or not the training data should be shuffled after each epoch.\n",
       "\n",
       "verbose : integer, optional\n",
       "    The verbosity level\n",
       "\n",
       "eta0 : double\n",
       "    Constant by which the updates are multiplied. Defaults to 1.\n",
       "\n",
       "n_jobs : int or None, optional (default=None)\n",
       "    The number of CPUs to use to do the OVA (One Versus All, for\n",
       "    multi-class problems) computation.\n",
       "    ``None`` means 1 unless in a :obj:`joblib.parallel_backend` context.\n",
       "    ``-1`` means using all processors. See :term:`Glossary <n_jobs>`\n",
       "    for more details.\n",
       "\n",
       "random_state : int, RandomState instance or None, optional, default None\n",
       "    The seed of the pseudo random number generator to use when shuffling\n",
       "    the data.  If int, random_state is the seed used by the random number\n",
       "    generator; If RandomState instance, random_state is the random number\n",
       "    generator; If None, the random number generator is the RandomState\n",
       "    instance used by `np.random`.\n",
       "\n",
       "early_stopping : bool, default=False\n",
       "    Whether to use early stopping to terminate training when validation.\n",
       "    score is not improving. If set to True, it will automatically set aside\n",
       "    a stratified fraction of training data as validation and terminate\n",
       "    training when validation score is not improving by at least tol for\n",
       "    n_iter_no_change consecutive epochs.\n",
       "\n",
       "    .. versionadded:: 0.20\n",
       "\n",
       "validation_fraction : float, default=0.1\n",
       "    The proportion of training data to set aside as validation set for\n",
       "    early stopping. Must be between 0 and 1.\n",
       "    Only used if early_stopping is True.\n",
       "\n",
       "    .. versionadded:: 0.20\n",
       "\n",
       "n_iter_no_change : int, default=5\n",
       "    Number of iterations with no improvement to wait before early stopping.\n",
       "\n",
       "    .. versionadded:: 0.20\n",
       "\n",
       "class_weight : dict, {class_label: weight} or \"balanced\" or None, optional\n",
       "    Preset for the class_weight fit parameter.\n",
       "\n",
       "    Weights associated with classes. If not given, all classes\n",
       "    are supposed to have weight one.\n",
       "\n",
       "    The \"balanced\" mode uses the values of y to automatically adjust\n",
       "    weights inversely proportional to class frequencies in the input data\n",
       "    as ``n_samples / (n_classes * np.bincount(y))``\n",
       "\n",
       "warm_start : bool, optional\n",
       "    When set to True, reuse the solution of the previous call to fit as\n",
       "    initialization, otherwise, just erase the previous solution. See\n",
       "    :term:`the Glossary <warm_start>`.\n",
       "\n",
       "Attributes\n",
       "----------\n",
       "coef_ : array, shape = [1, n_features] if n_classes == 2 else [n_classes,            n_features]\n",
       "    Weights assigned to the features.\n",
       "\n",
       "intercept_ : array, shape = [1] if n_classes == 2 else [n_classes]\n",
       "    Constants in decision function.\n",
       "\n",
       "n_iter_ : int\n",
       "    The actual number of iterations to reach the stopping criterion.\n",
       "    For multiclass fits, it is the maximum over every binary fit.\n",
       "\n",
       "Notes\n",
       "-----\n",
       "\n",
       "``Perceptron`` is a classification algorithm which shares the same\n",
       "underlying implementation with ``SGDClassifier``. In fact,\n",
       "``Perceptron()`` is equivalent to `SGDClassifier(loss=\"perceptron\",\n",
       "eta0=1, learning_rate=\"constant\", penalty=None)`.\n",
       "\n",
       "Examples\n",
       "--------\n",
       ">>> from sklearn.datasets import load_digits\n",
       ">>> from sklearn.linear_model import Perceptron\n",
       ">>> X, y = load_digits(return_X_y=True)\n",
       ">>> clf = Perceptron(tol=1e-3, random_state=0)\n",
       ">>> clf.fit(X, y)  # doctest: +NORMALIZE_WHITESPACE\n",
       "Perceptron(alpha=0.0001, class_weight=None, early_stopping=False, eta0=1.0,\n",
       "      fit_intercept=True, max_iter=1000, n_iter_no_change=5, n_jobs=None,\n",
       "      penalty=None, random_state=0, shuffle=True, tol=0.001,\n",
       "      validation_fraction=0.1, verbose=0, warm_start=False)\n",
       ">>> clf.score(X, y) # doctest: +ELLIPSIS\n",
       "0.939...\n",
       "\n",
       "See also\n",
       "--------\n",
       "\n",
       "SGDClassifier\n",
       "\n",
       "References\n",
       "----------\n",
       "\n",
       "https://en.wikipedia.org/wiki/Perceptron and references therein.\n",
       "\u001b[0;31mFile:\u001b[0m           ~/anaconda3/lib/python3.6/site-packages/sklearn/linear_model/perceptron.py\n",
       "\u001b[0;31mType:\u001b[0m           ABCMeta\n",
       "\u001b[0;31mSubclasses:\u001b[0m     \n"
      ]
     },
     "metadata": {},
     "output_type": "display_data"
    }
   ],
   "source": [
    "?Perceptron"
   ]
  },
  {
   "cell_type": "code",
   "execution_count": null,
   "metadata": {},
   "outputs": [],
   "source": []
  }
 ],
 "metadata": {
  "kernelspec": {
   "display_name": "Python 3",
   "language": "python",
   "name": "python3"
  },
  "language_info": {
   "codemirror_mode": {
    "name": "ipython",
    "version": 3
   },
   "file_extension": ".py",
   "mimetype": "text/x-python",
   "name": "python",
   "nbconvert_exporter": "python",
   "pygments_lexer": "ipython3",
   "version": "3.6.9"
  }
 },
 "nbformat": 4,
 "nbformat_minor": 4
}