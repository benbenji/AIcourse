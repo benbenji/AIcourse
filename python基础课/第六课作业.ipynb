{
 "cells": [
  {
   "cell_type": "markdown",
   "metadata": {},
   "source": [
    "* 画模块化编程的输入输出图"
   ]
  },
  {
   "cell_type": "markdown",
   "metadata": {},
   "source": [
    "1. 判断题\n",
    "* 对 函数定义时，默认参数一定要放在非默认参数的后面\n",
    "* 对 函数调用时，关键字参数一定要放到位置参数的后面\n",
    "* 对\n"
   ]
  },
  {
   "cell_type": "code",
   "execution_count": 3,
   "metadata": {},
   "outputs": [
    {
     "name": "stdout",
     "output_type": "stream",
     "text": [
      "a\n",
      "('b', 'c', 'd')\n",
      "{'name': 'Sarah', 'age': 18}\n"
     ]
    }
   ],
   "source": [
    "def func(x,*y,**z):\n",
    "    print(x)\n",
    "    print(y)\n",
    "    print(z)\n",
    "\n",
    "ls = [\"a\",\"b\",\"c\"]\n",
    "d = {\"name\":\"Sarah\",\"age\":18}\n",
    "func(*ls,\"d\",**d)"
   ]
  },
  {
   "cell_type": "code",
   "execution_count": 66,
   "metadata": {},
   "outputs": [],
   "source": [
    "def main():\n",
    "    pro_A,pro_B,number_of_match = get_inputs()\n",
    "    if(pro_A == None):\n",
    "        return\n",
    "    win_A,win_B = get_result_of_matches(pro_A,pro_B,number_of_match)\n",
    "    print_result_of_matches(win_A,win_B)"
   ]
  },
  {
   "cell_type": "code",
   "execution_count": 14,
   "metadata": {},
   "outputs": [
    {
     "name": "stdin",
     "output_type": "stream",
     "text": [
      "请输入A获胜的概率以及比赛场数 1.1 100\n"
     ]
    },
    {
     "name": "stdout",
     "output_type": "stream",
     "text": [
      "输入出错\n",
      "None\n"
     ]
    }
   ],
   "source": [
    "def get_inputs():\n",
    "    pro_A,number_of_matches = input(\"请输入A获胜的概率以及比赛场数\").split(\" \")\n",
    "    pro_A = eval(pro_A)\n",
    "    number_of_matches = eval(number_of_matches)\n",
    "    if pro_A >1 or pro_A < 0:\n",
    "        print(\"输入出错\")\n",
    "        return None\n",
    "    else:\n",
    "        pro_B = round(1-pro_A,2)\n",
    "        return pro_A,pro_B,number_of_matches\n",
    "    \n",
    "print(get_inputs())"
   ]
  },
  {
   "cell_type": "code",
   "execution_count": 59,
   "metadata": {},
   "outputs": [],
   "source": [
    "def get_result_of_matches(pro_A,pro_B,number_of_match):\n",
    "    win_A,win_B= 0,0\n",
    "    for i in range(number_of_match):\n",
    "        result = get_result_of_one_match(pro_A,pro_B)\n",
    "        if result == 1:\n",
    "            win_A += 1\n",
    "        else:\n",
    "            win_B += 1\n",
    "\n",
    "    return win_A,win_B"
   ]
  },
  {
   "cell_type": "code",
   "execution_count": 46,
   "metadata": {},
   "outputs": [],
   "source": [
    "import random\n",
    "def get_result_of_one_match(pro_A,pro_B):\n",
    "    game_win_A ,game_win_B =0,0\n",
    "    while not match_over(game_win_A,game_win_B):\n",
    "        score_A,score_B = 0,0\n",
    "        while not game_over(score_A,score_B):\n",
    "            if random.random() > pro_A:\n",
    "                score_B += 1\n",
    "            else:\n",
    "                score_A += 1\n",
    "        if score_A > score_B:\n",
    "            game_win_A += 1\n",
    "        else:\n",
    "            game_win_B += 1\n",
    "    if game_win_A > game_win_B:\n",
    "        return 1\n",
    "    else:\n",
    "        return 0"
   ]
  },
  {
   "cell_type": "code",
   "execution_count": 19,
   "metadata": {},
   "outputs": [],
   "source": [
    "def game_over(score_A,score_B):\n",
    "    if abs(score_A - score_B) >=2 and (score_A >= 21 or score_B >= 21):\n",
    "        return True\n",
    "    else:\n",
    "        return False"
   ]
  },
  {
   "cell_type": "code",
   "execution_count": 22,
   "metadata": {},
   "outputs": [
    {
     "name": "stdout",
     "output_type": "stream",
     "text": [
      "False\n"
     ]
    }
   ],
   "source": [
    "prgame_over(0,1)"
   ]
  },
  {
   "cell_type": "code",
   "execution_count": 23,
   "metadata": {},
   "outputs": [],
   "source": [
    "def match_over(game_win_A,game_win_B):\n",
    "    if game_win_A == 3 or game_win_B ==3:\n",
    "        return True"
   ]
  },
  {
   "cell_type": "code",
   "execution_count": 24,
   "metadata": {},
   "outputs": [
    {
     "data": {
      "text/plain": [
       "True"
      ]
     },
     "execution_count": 24,
     "metadata": {},
     "output_type": "execute_result"
    }
   ],
   "source": [
    "match_over(3,2)"
   ]
  },
  {
   "cell_type": "code",
   "execution_count": 57,
   "metadata": {},
   "outputs": [
    {
     "data": {
      "text/plain": [
       "0"
      ]
     },
     "execution_count": 57,
     "metadata": {},
     "output_type": "execute_result"
    }
   ],
   "source": [
    "get_result_of_one_match(0.5,0.5)"
   ]
  },
  {
   "cell_type": "code",
   "execution_count": 62,
   "metadata": {},
   "outputs": [
    {
     "data": {
      "text/plain": [
       "(8908, 1092)"
      ]
     },
     "execution_count": 62,
     "metadata": {},
     "output_type": "execute_result"
    }
   ],
   "source": [
    "get_result_of_matches(0.55,0.45,10000)"
   ]
  },
  {
   "cell_type": "code",
   "execution_count": 63,
   "metadata": {},
   "outputs": [],
   "source": [
    "def print_result_of_matches(win_A,win_B):\n",
    "    print (\"A获胜的概率为{:02%} B获胜的概率为{:02%}\".format(win_A/(win_A+win_B),win_B/(win_A+win_B)))"
   ]
  },
  {
   "cell_type": "code",
   "execution_count": 64,
   "metadata": {},
   "outputs": [
    {
     "name": "stdout",
     "output_type": "stream",
     "text": [
      "A获胜的概率为47.368421% B获胜的概率为52.631579%\n"
     ]
    }
   ],
   "source": [
    "print_result_of_matches(45,50)"
   ]
  },
  {
   "cell_type": "code",
   "execution_count": 80,
   "metadata": {},
   "outputs": [
    {
     "name": "stdin",
     "output_type": "stream",
     "text": [
      "请输入A获胜的概率以及比赛场数 0.55 10000\n"
     ]
    },
    {
     "name": "stdout",
     "output_type": "stream",
     "text": [
      "A获胜的概率为89.000000% B获胜的概率为11.000000%\n"
     ]
    }
   ],
   "source": [
    "def get_inputs():\n",
    "    pro_A,number_of_matches = input(\"请输入A获胜的概率以及比赛场数\").split(\" \")\n",
    "    pro_A = eval(pro_A)\n",
    "    number_of_matches = eval(number_of_matches)\n",
    "    if pro_A >1 or pro_A < 0:\n",
    "        print(\"输入出错\")\n",
    "        return None\n",
    "    else:\n",
    "        pro_B = round(1-pro_A,2)\n",
    "        return pro_A,pro_B,number_of_matches\n",
    "def get_result_of_matches(pro_A,pro_B,number_of_match):\n",
    "    win_A,win_B= 0,0\n",
    "    for i in range(number_of_match):\n",
    "        result = get_result_of_one_match(pro_A,pro_B)\n",
    "        if result == 1:\n",
    "            win_A += 1\n",
    "        else:\n",
    "            win_B += 1\n",
    "\n",
    "    return win_A,win_B\n",
    "def get_result_of_one_match(pro_A,pro_B):\n",
    "    game_win_A ,game_win_B =0,0\n",
    "    while not match_over(game_win_A,game_win_B):\n",
    "        score_A,score_B = 0,0\n",
    "        while not game_over(score_A,score_B):\n",
    "            if random.random() > pro_A:\n",
    "                score_B += 1\n",
    "            else:\n",
    "                score_A += 1\n",
    "        if score_A > score_B:\n",
    "            game_win_A += 1\n",
    "        else:\n",
    "            game_win_B += 1\n",
    "    if game_win_A > game_win_B:\n",
    "        return 1\n",
    "    else:\n",
    "        return 0\n",
    "def game_over(score_A,score_B):\n",
    "    if abs(score_A - score_B) >=2 and (score_A >= 21 or score_B >= 21):\n",
    "        return True\n",
    "    else:\n",
    "        return False\n",
    "\n",
    "def match_over(game_win_A,game_win_B):\n",
    "    if game_win_A == 3 or game_win_B ==3:\n",
    "        return True\n",
    "\n",
    "def print_result_of_matches(win_A,win_B):\n",
    "    print (\"A获胜的概率为{:02%} B获胜的概率为{:02%}\".format(win_A/(win_A+win_B),win_B/(win_A+win_B)))\n",
    "def main():\n",
    "    pro_A,pro_B,number_of_match = get_inputs()\n",
    "    if(pro_A == None):\n",
    "        return\n",
    "    win_A,win_B = get_result_of_matches(pro_A,pro_B,number_of_match)\n",
    "    print_result_of_matches(win_A,win_B)\n",
    "main() # 三局两胜后 选手的差距被拉大"
   ]
  },
  {
   "cell_type": "code",
   "execution_count": 70,
   "metadata": {},
   "outputs": [
    {
     "name": "stdout",
     "output_type": "stream",
     "text": [
      "{'八': 2, '百': 2, '标': 3, '兵': 6, '奔': 1, '北': 2, '坡': 2, '，': 3, '炮': 5, '怕': 2, '碰': 2, '把': 1}\n"
     ]
    }
   ],
   "source": [
    "s= \"八百标兵奔北坡，北坡八百炮兵炮，标兵怕碰炮兵炮，炮兵怕把标兵碰\"\n",
    "d = {}\n",
    "for i in s:\n",
    "    d[i] = d.get(i,0)+1\n",
    "print(d)\n"
   ]
  },
  {
   "cell_type": "code",
   "execution_count": 77,
   "metadata": {},
   "outputs": [],
   "source": [
    "d1 = sorted(d,key = lambda x:d[x])"
   ]
  },
  {
   "cell_type": "code",
   "execution_count": 78,
   "metadata": {},
   "outputs": [
    {
     "data": {
      "text/plain": [
       "['奔', '把', '八', '百', '北', '坡', '怕', '碰', '标', '，', '炮', '兵']"
      ]
     },
     "execution_count": 78,
     "metadata": {},
     "output_type": "execute_result"
    }
   ],
   "source": [
    "d1"
   ]
  },
  {
   "cell_type": "code",
   "execution_count": null,
   "metadata": {},
   "outputs": [],
   "source": []
  }
 ],
 "metadata": {
  "kernelspec": {
   "display_name": "Python 3",
   "language": "python",
   "name": "python3"
  },
  "language_info": {
   "codemirror_mode": {
    "name": "ipython",
    "version": 3
   },
   "file_extension": ".py",
   "mimetype": "text/x-python",
   "name": "python",
   "nbconvert_exporter": "python",
   "pygments_lexer": "ipython3",
   "version": "3.6.9"
  }
 },
 "nbformat": 4,
 "nbformat_minor": 4
}
